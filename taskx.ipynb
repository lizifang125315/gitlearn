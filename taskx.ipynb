{
 "cells": [
  {
   "cell_type": "markdown",
   "metadata": {
    "toc": true
   },
   "source": [
    "<h1>Table of Contents<span class=\"tocSkip\"></span></h1>\n",
    "<div class=\"toc\"><ul class=\"toc-item\"><li><span><a href=\"#由于数字后混搭空格与非空格-先统一去掉空格\" data-toc-modified-id=\"由于数字后混搭空格与非空格-先统一去掉空格-1\"><span class=\"toc-item-num\">1&nbsp;&nbsp;</span>由于数字后混搭空格与非空格 先统一去掉空格</a></span></li><li><span><a href=\"#在&quot;_001&quot;~&quot;0_200&quot;后加上空格\" data-toc-modified-id=\"在&quot;_001&quot;~&quot;0_200&quot;后加上空格-2\"><span class=\"toc-item-num\">2&nbsp;&nbsp;</span>在\"_001\"~\"0_200\"后加上空格</a></span></li></ul></div>"
   ]
  },
  {
   "cell_type": "code",
   "execution_count": 29,
   "metadata": {},
   "outputs": [],
   "source": [
    "import numpy as np\n",
    "import pandas as pd"
   ]
  },
  {
   "cell_type": "code",
   "execution_count": 30,
   "metadata": {},
   "outputs": [],
   "source": [
    "data = pd.read_csv(r\"D:\\CRRC_WorkDocument\\栗溪异步技改\\hxmj_tag.csv\")"
   ]
  },
  {
   "cell_type": "markdown",
   "metadata": {},
   "source": [
    "### 由于数字后混搭空格与非空格 先统一去掉空格"
   ]
  },
  {
   "cell_type": "code",
   "execution_count": 31,
   "metadata": {},
   "outputs": [],
   "source": [
    "li = []\n",
    "for f in list(data[\"wec_tag\"]):\n",
    "    f = f.replace(\" \", \"\")\n",
    "    li.append(f)\n",
    "data[\"wec_tag\"] = li"
   ]
  },
  {
   "cell_type": "markdown",
   "metadata": {},
   "source": [
    "### 在\"_001\"~\"0_200\"后加上空格"
   ]
  },
  {
   "cell_type": "code",
   "execution_count": 32,
   "metadata": {
    "scrolled": false
   },
   "outputs": [],
   "source": [
    "wt = 1\n",
    "lis = list(data[\"wec_tag\"])\n",
    "while wt<201:\n",
    "    for f in lis:\n",
    "        if \"_\"+str(wt).zfill(3) in str(f):\n",
    "            lis_index = lis.index(f)\n",
    "            f=f.replace(\"_\"+str(wt).zfill(3),\"_\"+str(wt).zfill(3)+\" \")\n",
    "            lis[lis_index] = f\n",
    "    wt = wt+1\n",
    "data[\"wec_tag\"] = lis"
   ]
  },
  {
   "cell_type": "code",
   "execution_count": 33,
   "metadata": {},
   "outputs": [],
   "source": [
    "data.to_csv(r\"D:\\CRRC_WorkDocument\\栗溪异步技改\\hxmj_tag_result.csv\")"
   ]
  },
  {
   "cell_type": "code",
   "execution_count": null,
   "metadata": {},
   "outputs": [],
   "source": [
    "print(\"test\")"
   ]
  }
 ],
 "metadata": {
  "kernelspec": {
   "display_name": "Python 3",
   "language": "python",
   "name": "python3"
  },
  "language_info": {
   "codemirror_mode": {
    "name": "ipython",
    "version": 3
   },
   "file_extension": ".py",
   "mimetype": "text/x-python",
   "name": "python",
   "nbconvert_exporter": "python",
   "pygments_lexer": "ipython3",
   "version": "3.7.4"
  },
  "toc": {
   "base_numbering": 1,
   "nav_menu": {},
   "number_sections": true,
   "sideBar": true,
   "skip_h1_title": false,
   "title_cell": "Table of Contents",
   "title_sidebar": "Contents",
   "toc_cell": true,
   "toc_position": {},
   "toc_section_display": true,
   "toc_window_display": false
  }
 },
 "nbformat": 4,
 "nbformat_minor": 2
}
